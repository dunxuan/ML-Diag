{
 "cells": [
  {
   "cell_type": "markdown",
   "metadata": {},
   "source": [
    "# 数据预处理"
   ]
  },
  {
   "cell_type": "markdown",
   "source": [
    "## 导入文件"
   ],
   "metadata": {
    "collapsed": false
   }
  },
  {
   "cell_type": "code",
   "execution_count": 36,
   "metadata": {
    "ExecuteTime": {
     "end_time": "2023-06-09T08:17:26.161094900Z",
     "start_time": "2023-06-09T08:17:25.908145800Z"
    }
   },
   "outputs": [],
   "source": [
    "import pandas as pd\n",
    "\n",
    "df = pd.read_csv('train_10000.csv')"
   ]
  },
  {
   "cell_type": "markdown",
   "metadata": {},
   "source": [
    "检查数据的形状是否正确"
   ]
  },
  {
   "cell_type": "code",
   "execution_count": 37,
   "metadata": {
    "ExecuteTime": {
     "end_time": "2023-06-09T08:17:26.170271500Z",
     "start_time": "2023-06-09T08:17:26.160095Z"
    }
   },
   "outputs": [],
   "source": [
    "# df.head()"
   ]
  },
  {
   "cell_type": "markdown",
   "metadata": {},
   "source": [
    "调用函数 info() 可以获得有关这个数据集的信息"
   ]
  },
  {
   "cell_type": "code",
   "execution_count": 38,
   "metadata": {
    "ExecuteTime": {
     "end_time": "2023-06-09T08:17:26.174797700Z",
     "start_time": "2023-06-09T08:17:26.170271500Z"
    }
   },
   "outputs": [],
   "source": [
    "# df.info()"
   ]
  },
  {
   "cell_type": "markdown",
   "metadata": {},
   "source": [
    "调用函数 barh() 绘制出 label 数据的条形图"
   ]
  },
  {
   "cell_type": "code",
   "execution_count": 39,
   "metadata": {
    "ExecuteTime": {
     "end_time": "2023-06-09T08:17:26.200553800Z",
     "start_time": "2023-06-09T08:17:26.176812500Z"
    }
   },
   "outputs": [],
   "source": [
    "# df.label.value_counts().plot.barh()"
   ]
  },
  {
   "cell_type": "markdown",
   "metadata": {},
   "source": [
    "检查有效数据"
   ]
  },
  {
   "cell_type": "code",
   "execution_count": 40,
   "outputs": [],
   "source": [
    "# label_0_df = df[(df.label == 0)]\n",
    "# label_1_df = df[(df.label == 1)]\n",
    "# label_2_df = df[(df.label == 2)]\n",
    "# label_3_df = df[(df.label == 3)]\n",
    "# label_4_df = df[(df.label == 4)]\n",
    "#\n",
    "# print(f'label 0 df: {label_0_df.shape}')\n",
    "# print(f'label 1 df: {label_1_df.shape}')\n",
    "# print(f'label 2 df: {label_2_df.shape}')\n",
    "# print(f'label 3 df: {label_3_df.shape}')\n",
    "# print(f'label 4 df: {label_4_df.shape}')"
   ],
   "metadata": {
    "collapsed": false,
    "ExecuteTime": {
     "end_time": "2023-06-09T08:17:26.201551200Z",
     "start_time": "2023-06-09T08:17:26.188867300Z"
    }
   }
  },
  {
   "cell_type": "markdown",
   "source": [
    "绘制图形观察规律"
   ],
   "metadata": {
    "collapsed": false
   }
  },
  {
   "cell_type": "markdown",
   "source": [
    "散点图"
   ],
   "metadata": {
    "collapsed": false
   }
  },
  {
   "cell_type": "code",
   "execution_count": 41,
   "outputs": [],
   "source": [
    "# fig, axs = plt.subplots(nrows=12, ncols=9, figsize=(100, 100))\n",
    "#\n",
    "# for i in range(12):\n",
    "#     for j in range(9):\n",
    "#         axs[i, j].scatter(df.iloc[:, i * 9 + j], df.iloc[:, -1])\n",
    "#         axs[i, j].set_title(f\"Column {i * 9 + j + 1}\")\n",
    "#\n",
    "# plt.show()"
   ],
   "metadata": {
    "collapsed": false,
    "ExecuteTime": {
     "end_time": "2023-06-09T08:17:26.201551200Z",
     "start_time": "2023-06-09T08:17:26.196556100Z"
    }
   }
  },
  {
   "cell_type": "markdown",
   "source": [
    "重叠折线图"
   ],
   "metadata": {
    "collapsed": false
   }
  },
  {
   "cell_type": "code",
   "execution_count": 42,
   "outputs": [],
   "source": [
    "# from matplotlib import pyplot as plt\n",
    "#\n",
    "# df_sample = df.groupby('label').apply(lambda x: x.sample(n=1))\n",
    "# plt.figure(figsize=(10, 10))\n",
    "# plt.grid()\n",
    "# for index, row in df_sample.iterrows():\n",
    "#     features = row[1:]\n",
    "#     plt.plot(features[0])\n",
    "# plt.xticks(range(107), range(107))\n",
    "# plt.show()"
   ],
   "metadata": {
    "collapsed": false,
    "ExecuteTime": {
     "end_time": "2023-06-09T08:17:26.212085800Z",
     "start_time": "2023-06-09T08:17:26.203555200Z"
    }
   }
  },
  {
   "cell_type": "markdown",
   "source": [
    "每个feature一个图，x是行数，y是实际值"
   ],
   "metadata": {
    "collapsed": false
   }
  },
  {
   "cell_type": "code",
   "execution_count": 43,
   "outputs": [],
   "source": [
    "# from matplotlib import pyplot as plt\n",
    "#\n",
    "# rows = 11\n",
    "# cols = 10\n",
    "# fig, axs = plt.subplots(nrows=rows, ncols=cols, figsize=(200, 220))\n",
    "#\n",
    "# feature = df.drop(['sample_id'], axis=1)\n",
    "# feature.sort_values(by=['label'], inplace=True)\n",
    "# feature.reset_index(drop=True, inplace=True)\n",
    "#\n",
    "# colors = ['red', 'blue', 'green', 'purple', 'orange', 'magenta']\n",
    "# for i in range(feature.shape[1] - 1):\n",
    "#     axs_item = axs[i // cols][i % cols]\n",
    "#     for j in range(6):\n",
    "#         axs_item.plot(feature.iloc[:, i][feature.iloc[:, -1] == j], color=colors[j], label=f'Label {j}')\n",
    "#     axs_item.grid()\n",
    "#     axs_item.set_title(f'Feature {i}')\n",
    "#\n",
    "# plt.show()"
   ],
   "metadata": {
    "collapsed": false,
    "ExecuteTime": {
     "end_time": "2023-06-09T08:17:26.218629600Z",
     "start_time": "2023-06-09T08:17:26.214086300Z"
    }
   }
  },
  {
   "cell_type": "markdown",
   "source": [
    "每个label一个图，x是feature，y是实际值"
   ],
   "metadata": {
    "collapsed": false
   }
  },
  {
   "cell_type": "code",
   "execution_count": 44,
   "outputs": [],
   "source": [
    "# from matplotlib import pyplot as plt\n",
    "#\n",
    "# num = [\n",
    "#     [9, 51, 79],\n",
    "#     [16, 36, 66, 84, 86, 91],\n",
    "#     [7, 82, 87],\n",
    "#     [39, 42, 48, 89, 101],\n",
    "#     [60, 72, 94],\n",
    "#     [8, 12, 18, 21, 37, 40, 43, 47, 52, 55, 61, 68, 69, 90, 93, 96],\n",
    "#     [1, 17, 25, 26, 54, 58, 88, 98],\n",
    "#     [11, 20, 23, 64, 75, 78, 92],\n",
    "#     [0, 4, 28, 31, 41, 63, 67, 70, 81, 95, 99, 102, 106],\n",
    "#     [5, 6, 13, 14, 19, 27, 30, 32, 33, 35, 38, 44, 46, 49, 56, 59, 76, 97, 105],\n",
    "#     [3, 24, 34, 50, 53, 62, 65, 71, 73, 74, 103, 104],\n",
    "#     [2, 10, 15, 45, 80, 83, 29],\n",
    "#     []\n",
    "# ]\n",
    "# all_nums = set(range(0, 107))\n",
    "# num_set = set([item for sublist in num for item in sublist])\n",
    "# num[-1] = list(all_nums - num_set)\n",
    "#\n",
    "# rows = 6\n",
    "# cols = len(num)\n",
    "# fig, axs = plt.subplots(nrows=rows, ncols=cols, figsize=(20 * cols, 20 * rows))\n",
    "# feature = df.drop(['sample_id'], axis=1)\n",
    "# for i in range(rows):\n",
    "#     for j in range(cols):\n",
    "#         axs[i][j].plot(feature[feature.label == i].iloc[:, num[j]][:10].T)\n",
    "#         axs[i][j].set_title(f'label {i} number {j}')\n",
    "#         axs[i][j].tick_params(axis='x', labelrotation=90)\n",
    "#         axs[i][j].grid()\n",
    "#\n",
    "# plt.show()"
   ],
   "metadata": {
    "collapsed": false,
    "ExecuteTime": {
     "end_time": "2023-06-09T08:17:26.263360500Z",
     "start_time": "2023-06-09T08:17:26.221634Z"
    }
   }
  },
  {
   "cell_type": "markdown",
   "source": [
    "对数图"
   ],
   "metadata": {
    "collapsed": false
   }
  },
  {
   "cell_type": "code",
   "execution_count": 45,
   "outputs": [],
   "source": [
    "# from matplotlib import pyplot as plt\n",
    "#\n",
    "# fig, axs = plt.subplots(ncols=6, figsize=(120, 20))\n",
    "#\n",
    "# feature = df.drop(['sample_id'], axis=1)\n",
    "#\n",
    "# for i in range(6):\n",
    "#     axs[i].semilogy(feature[feature.label == i].iloc[:10, :].T)\n",
    "#     axs[i].tick_params(axis='x', labelrotation=90)\n",
    "#     axs[i].grid()\n",
    "#     axs[i].set_title(f'Label {i}')\n",
    "#\n",
    "# plt.show()"
   ],
   "metadata": {
    "collapsed": false,
    "ExecuteTime": {
     "end_time": "2023-06-09T08:17:26.264932800Z",
     "start_time": "2023-06-09T08:17:26.232165800Z"
    }
   }
  },
  {
   "cell_type": "markdown",
   "source": [
    "### 交叉验证法\n",
    "已经给出训练集和验证集，暂不用交叉验证"
   ],
   "metadata": {
    "collapsed": false
   }
  },
  {
   "cell_type": "code",
   "execution_count": 46,
   "outputs": [],
   "source": [
    "# from sklearn.model_selection import KFold, cross_val_score\n",
    "#\n",
    "# k_fold = KFold(n_splits=10)\n",
    "#\n",
    "# for train_indices, test_indices in k_fold.split(X):\n",
    "#     print('Train: %s | test: %s' % (train_indices, test_indices))"
   ],
   "metadata": {
    "collapsed": false,
    "ExecuteTime": {
     "end_time": "2023-06-09T08:17:26.265889600Z",
     "start_time": "2023-06-09T08:17:26.237695900Z"
    }
   }
  },
  {
   "cell_type": "markdown",
   "metadata": {},
   "source": [
    "## 平衡数据集"
   ]
  },
  {
   "cell_type": "markdown",
   "source": [
    "画出nan和null占比条形图\n",
    "新数据集无需处理nan"
   ],
   "metadata": {
    "collapsed": false
   }
  },
  {
   "cell_type": "code",
   "execution_count": 47,
   "outputs": [],
   "source": [
    "# # 计算每列中NaN和null值的数量\n",
    "# null_counts = df.isnull().sum()\n",
    "# # 计算数据框中值的总数\n",
    "# total_values = np.product(df.shape)\n",
    "# # 计算每个列中NaN和null值的百分比\n",
    "# null_percentages = null_counts / total_values * 100\n",
    "#\n",
    "# plt.figure(figsize=(20, 20))\n",
    "# null_percentages.plot(kind='bar')"
   ],
   "metadata": {
    "collapsed": false,
    "ExecuteTime": {
     "end_time": "2023-06-09T08:17:26.266884300Z",
     "start_time": "2023-06-09T08:17:26.244695800Z"
    }
   }
  },
  {
   "cell_type": "markdown",
   "source": [
    "使用fillna填充平均值"
   ],
   "metadata": {
    "collapsed": false
   }
  },
  {
   "cell_type": "code",
   "execution_count": 48,
   "outputs": [],
   "source": [
    "df_fill = df.groupby('label').apply(lambda x: x.fillna(x.mean()))"
   ],
   "metadata": {
    "collapsed": false,
    "ExecuteTime": {
     "end_time": "2023-06-09T08:17:26.486029300Z",
     "start_time": "2023-06-09T08:17:26.255346700Z"
    }
   }
  },
  {
   "cell_type": "markdown",
   "source": [
    "提取出feature和label"
   ],
   "metadata": {
    "collapsed": false
   }
  },
  {
   "cell_type": "code",
   "execution_count": 49,
   "outputs": [],
   "source": [
    "feature_df = df_fill.drop(['sample_id', 'label'], axis=1)\n",
    "labels_df = df_fill.label"
   ],
   "metadata": {
    "collapsed": false,
    "ExecuteTime": {
     "end_time": "2023-06-09T08:17:26.502077100Z",
     "start_time": "2023-06-09T08:17:26.499078900Z"
    }
   }
  },
  {
   "cell_type": "markdown",
   "source": [
    "合成少数类过采样技术（SMOTE）：在少数类中创建新的合成样本，以使其与多数类具有相同数量的样本。这种方法可以避免信息丢失和过拟合问题。您可以使用imblearn库中的SMOTE类来执行此操作。"
   ],
   "metadata": {
    "collapsed": false
   }
  },
  {
   "cell_type": "code",
   "execution_count": 50,
   "outputs": [],
   "source": [
    "from imblearn.over_sampling import SMOTE\n",
    "\n",
    "oversample = SMOTE()\n",
    "transformed_feature_df, transformed_label_df = oversample.fit_resample(feature_df, labels_df)"
   ],
   "metadata": {
    "collapsed": false,
    "ExecuteTime": {
     "end_time": "2023-06-09T08:17:26.903924600Z",
     "start_time": "2023-06-09T08:17:26.505076700Z"
    }
   }
  },
  {
   "cell_type": "markdown",
   "source": [
    "查看每个label的feature数量"
   ],
   "metadata": {
    "collapsed": false
   }
  },
  {
   "cell_type": "code",
   "execution_count": 51,
   "outputs": [],
   "source": [
    "# print(f'new label count: {transformed_label_df.value_counts()}')\n",
    "# print(f'old label count: {df.label.value_counts()}')"
   ],
   "metadata": {
    "collapsed": false,
    "ExecuteTime": {
     "end_time": "2023-06-09T08:17:26.911025300Z",
     "start_time": "2023-06-09T08:17:26.907031Z"
    }
   }
  },
  {
   "cell_type": "markdown",
   "source": [
    "合并transformed_feature_df和transformed_label_df"
   ],
   "metadata": {
    "collapsed": false
   }
  },
  {
   "cell_type": "code",
   "execution_count": 52,
   "outputs": [],
   "source": [
    "transformed_df = pd.concat([transformed_label_df, transformed_feature_df], axis=1, join='outer')\n",
    "transformed_df.to_csv(\"train_cleaned.csv\", index_label=\"id\")"
   ],
   "metadata": {
    "collapsed": false,
    "ExecuteTime": {
     "end_time": "2023-06-09T08:17:30.731095200Z",
     "start_time": "2023-06-09T08:17:26.919225Z"
    }
   }
  }
 ],
 "metadata": {
  "kernelspec": {
   "display_name": "Python 3 (ipykernel)",
   "language": "python",
   "name": "python3"
  },
  "language_info": {
   "codemirror_mode": {
    "name": "ipython",
    "version": 3
   },
   "file_extension": ".py",
   "mimetype": "text/x-python",
   "name": "python",
   "nbconvert_exporter": "python",
   "pygments_lexer": "ipython3",
   "version": "3.10.11"
  }
 },
 "nbformat": 4,
 "nbformat_minor": 1
}
