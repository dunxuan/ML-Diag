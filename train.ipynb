{
 "cells": [
  {
   "cell_type": "markdown",
   "metadata": {
    "collapsed": false
   },
   "source": [
    "# 数据处理"
   ]
  },
  {
   "cell_type": "code",
   "execution_count": 1,
   "metadata": {
    "ExecuteTime": {
     "end_time": "2023-07-09T08:02:09.624473300Z",
     "start_time": "2023-07-09T08:02:08.828342400Z"
    },
    "collapsed": false
   },
   "outputs": [],
   "source": [
    "import pandas as pd\n",
    "\n",
    "df_train = pd.read_csv('train_10000.csv')\n",
    "df_test = pd.read_csv('validate_1000.csv')"
   ]
  },
  {
   "cell_type": "markdown",
   "metadata": {
    "collapsed": false
   },
   "source": [
    "## 清理数据\n",
    "\n",
    "使用fillna填充NaN为平均值"
   ]
  },
  {
   "cell_type": "code",
   "execution_count": 2,
   "metadata": {
    "ExecuteTime": {
     "end_time": "2023-07-09T08:02:09.842931100Z",
     "start_time": "2023-07-09T08:02:09.628470700Z"
    },
    "collapsed": false
   },
   "outputs": [],
   "source": [
    "df_train = df_train.groupby('label').apply(lambda x: x.fillna(x.mean()))"
   ]
  },
  {
   "cell_type": "markdown",
   "metadata": {
    "collapsed": false
   },
   "source": [
    "## 分割数据"
   ]
  },
  {
   "cell_type": "code",
   "execution_count": null,
   "metadata": {
    "ExecuteTime": {
     "end_time": "2023-07-09T08:02:12.231971Z",
     "start_time": "2023-07-09T08:02:09.845923800Z"
    },
    "collapsed": false
   },
   "outputs": [],
   "source": [
    "from sklearn.model_selection import train_test_split\n",
    "\n",
    "feature = df_train.drop(['sample_id', 'label'], axis=1)\n",
    "label = df_train['label']\n",
    "X_train, X_test, y_train, y_test = train_test_split(feature, label, test_size=0.0)"
   ]
  },
  {
   "cell_type": "markdown",
   "metadata": {
    "collapsed": false
   },
   "source": [
    "## 平衡数据集"
   ]
  },
  {
   "cell_type": "markdown",
   "metadata": {
    "collapsed": false
   },
   "source": [
    "合成少数类过采样技术（SMOTE）：在少数类中创建新的合成样本，以使其与多数类具有相同数量的样本。这种方法可以避免信息丢失和过拟合问题。使用imblearn库中的SMOTE类来执行此操作。"
   ]
  },
  {
   "cell_type": "code",
   "execution_count": null,
   "metadata": {
    "collapsed": false
   },
   "outputs": [],
   "source": [
    "from imblearn.over_sampling import SMOTE\n",
    "\n",
    "oversample = SMOTE()\n",
    "X_train, y_train = oversample.fit_resample(X_train, y_train)"
   ]
  },
  {
   "cell_type": "markdown",
   "metadata": {
    "collapsed": false
   },
   "source": [
    "# 训练并验证"
   ]
  },
  {
   "cell_type": "markdown",
   "metadata": {
    "collapsed": false
   },
   "source": [
    "### macro_F1\n",
    "Linear SVC:<0.2\n",
    "KNN classifier:0.88\n",
    "SVC:0.21\n",
    "RFST:0.97\n",
    "ADA:0.47"
   ]
  },
  {
   "cell_type": "code",
   "execution_count": null,
   "metadata": {
    "collapsed": false
   },
   "outputs": [],
   "source": [
    "# from sklearn.svm import LinearSVC, SVC\n",
    "# from sklearn.neighbors import KNeighborsClassifier\n",
    "from sklearn.ensemble import RandomForestClassifier, AdaBoostClassifier, HistGradientBoostingClassifier\n",
    "\n",
    "# C = 1\n",
    "# 创建不同的分类器\n",
    "# classifiers = {\n",
    "#      'Linear SVC': LinearSVC(C=C),\n",
    "#      'KNN classifier': KNeighborsClassifier(C, n_jobs=-1),\n",
    "#      'SVC': SVC(),\n",
    "#      'RFST': RandomForestClassifier(n_jobs=-1),\n",
    "#      'ADA': AdaBoostClassifier()\n",
    "# }\n",
    "clf = RandomForestClassifier(n_jobs=-1)"
   ]
  },
  {
   "cell_type": "markdown",
   "metadata": {
    "collapsed": false
   },
   "source": [
    "使用不同算法训练模型并输出报告"
   ]
  },
  {
   "cell_type": "code",
   "execution_count": null,
   "metadata": {
    "collapsed": false
   },
   "outputs": [],
   "source": [
    "import numpy as np\n",
    "from sklearn.metrics import f1_score\n",
    "from sklearn.metrics import classification_report\n",
    "\n",
    "# 训练\n",
    "clf.fit(X_train, np.ravel(y_train))\n",
    "\n",
    "# 推理验证\n",
    "y_pred = clf.predict(X_test)\n",
    "macro_F1 = f1_score(y_test, y_pred, average='macro')\n",
    "print(\"macro_F1 is {}\".format(macro_F1))\n",
    "print(classification_report(y_test, y_pred))"
   ]
  },
  {
   "cell_type": "markdown",
   "metadata": {
    "collapsed": false
   },
   "source": [
    "# 保存模型"
   ]
  },
  {
   "cell_type": "code",
   "execution_count": null,
   "metadata": {
    "collapsed": false
   },
   "outputs": [],
   "source": [
    "from skops.io import dump\n",
    "\n",
    "dump(clf, \"preproccess.skops\")"
   ]
  }
 ],
 "metadata": {
  "kernelspec": {
   "display_name": "Python 3",
   "language": "python",
   "name": "python3"
  },
  "language_info": {
   "codemirror_mode": {
    "name": "ipython",
    "version": 2
   },
   "file_extension": ".py",
   "mimetype": "text/x-python",
   "name": "python",
   "nbconvert_exporter": "python",
   "pygments_lexer": "ipython2",
   "version": "2.7.6"
  }
 },
 "nbformat": 4,
 "nbformat_minor": 0
}
