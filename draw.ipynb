{
 "cells": [
  {
   "cell_type": "code",
   "execution_count": null,
   "metadata": {},
   "outputs": [],
   "source": [
    "import pandas as pd\n",
    "\n",
    "df = pd.read_csv('train_10000.csv')"
   ]
  },
  {
   "cell_type": "markdown",
   "metadata": {},
   "source": [
    "检查数据的形状是否正确"
   ]
  },
  {
   "cell_type": "code",
   "execution_count": null,
   "metadata": {},
   "outputs": [],
   "source": [
    "# df.head()"
   ]
  },
  {
   "cell_type": "markdown",
   "metadata": {},
   "source": [
    "调用函数 info() 可以获得有关这个数据集的信息"
   ]
  },
  {
   "cell_type": "code",
   "execution_count": null,
   "metadata": {},
   "outputs": [],
   "source": [
    "# df.info()"
   ]
  },
  {
   "cell_type": "markdown",
   "metadata": {},
   "source": [
    "调用函数 barh() 绘制出 label 数据的条形图"
   ]
  },
  {
   "cell_type": "code",
   "execution_count": null,
   "metadata": {},
   "outputs": [],
   "source": [
    "# df.label.value_counts().plot.barh()"
   ]
  },
  {
   "cell_type": "markdown",
   "metadata": {},
   "source": [
    "检查有效数据"
   ]
  },
  {
   "cell_type": "code",
   "execution_count": null,
   "outputs": [],
   "source": [
    "# label_0_df = df[(df.label == 0)]\n",
    "# label_1_df = df[(df.label == 1)]\n",
    "# label_2_df = df[(df.label == 2)]\n",
    "# label_3_df = df[(df.label == 3)]\n",
    "# label_4_df = df[(df.label == 4)]\n",
    "#\n",
    "# print(f'label 0 df: {label_0_df.shape}')\n",
    "# print(f'label 1 df: {label_1_df.shape}')\n",
    "# print(f'label 2 df: {label_2_df.shape}')\n",
    "# print(f'label 3 df: {label_3_df.shape}')\n",
    "# print(f'label 4 df: {label_4_df.shape}')"
   ],
   "metadata": {
    "collapsed": false
   }
  },
  {
   "cell_type": "markdown",
   "source": [
    "绘制图形观察规律"
   ],
   "metadata": {
    "collapsed": false
   }
  },
  {
   "cell_type": "markdown",
   "source": [
    "散点图"
   ],
   "metadata": {
    "collapsed": false
   }
  },
  {
   "cell_type": "code",
   "execution_count": null,
   "outputs": [],
   "source": [
    "# fig, axs = plt.subplots(nrows=12, ncols=9, figsize=(100, 100))\n",
    "#\n",
    "# for i in range(12):\n",
    "#     for j in range(9):\n",
    "#         axs[i, j].scatter(df.iloc[:, i * 9 + j], df.iloc[:, -1])\n",
    "#         axs[i, j].set_title(f\"Column {i * 9 + j + 1}\")\n",
    "#\n",
    "# plt.show()"
   ],
   "metadata": {
    "collapsed": false
   }
  },
  {
   "cell_type": "markdown",
   "source": [
    "每个feature一个图，x是行数，y是实际值"
   ],
   "metadata": {
    "collapsed": false
   }
  },
  {
   "cell_type": "code",
   "execution_count": null,
   "outputs": [],
   "source": [
    "# from matplotlib import pyplot as plt\n",
    "#\n",
    "# rows = 11\n",
    "# cols = 10\n",
    "# fig, axs = plt.subplots(nrows=rows, ncols=cols, figsize=(200, 220))\n",
    "#\n",
    "# feature = df.drop(['sample_id'], axis=1)\n",
    "# feature.sort_values(by=['label'], inplace=True)\n",
    "# feature.reset_index(drop=True, inplace=True)\n",
    "#\n",
    "# colors = ['red', 'blue', 'green', 'purple', 'orange', 'magenta']\n",
    "# for i in range(feature.shape[1] - 1):\n",
    "#     axs_item = axs[i // cols][i % cols]\n",
    "#     for j in range(6):\n",
    "#         axs_item.plot(feature.iloc[:, i][feature.iloc[:, -1] == j], color=colors[j], label=f'Label {j}')\n",
    "#     axs_item.grid()\n",
    "#     axs_item.set_title(f'Feature {i}')\n",
    "#\n",
    "# plt.show()"
   ],
   "metadata": {
    "collapsed": false
   }
  },
  {
   "cell_type": "markdown",
   "source": [
    "每个label一个图，x是feature，y是实际值"
   ],
   "metadata": {
    "collapsed": false
   }
  },
  {
   "cell_type": "code",
   "execution_count": null,
   "outputs": [],
   "source": [
    "# from matplotlib import pyplot as plt\n",
    "#\n",
    "# num = [\n",
    "#     [9, 51, 79],\n",
    "#     [16, 36, 66, 84, 86, 91],\n",
    "#     [7, 82, 87],\n",
    "#     [39, 42, 48, 89, 101],\n",
    "#     [60, 72, 94],\n",
    "#     [8, 12, 18, 21, 37, 40, 43, 47, 52, 55, 61, 68, 69, 90, 93, 96],\n",
    "#     [1, 17, 25, 26, 54, 58, 88, 98],\n",
    "#     [11, 20, 23, 64, 75, 78, 92],\n",
    "#     [0, 4, 28, 31, 41, 63, 67, 70, 81, 95, 99, 102, 106],\n",
    "#     [5, 6, 13, 14, 19, 27, 30, 32, 33, 35, 38, 44, 46, 49, 56, 59, 76, 97, 105],\n",
    "#     [3, 24, 34, 50, 53, 62, 65, 71, 73, 74, 103, 104],\n",
    "#     [2, 10, 15, 45, 80, 83, 29],\n",
    "#     []\n",
    "# ]\n",
    "# all_nums = set(range(0, 107))\n",
    "# num_set = set([item for sublist in num for item in sublist])\n",
    "# num[-1] = list(all_nums - num_set)\n",
    "#\n",
    "# rows = 6\n",
    "# cols = len(num)\n",
    "# fig, axs = plt.subplots(nrows=rows, ncols=cols, figsize=(20 * cols, 20 * rows))\n",
    "# feature = df.drop(['sample_id'], axis=1)\n",
    "# for i in range(rows):\n",
    "#     for j in range(cols):\n",
    "#         axs[i][j].plot(feature[feature.label == i].iloc[:, num[j]][:10].T)\n",
    "#         axs[i][j].set_title(f'label {i} number {j}')\n",
    "#         axs[i][j].tick_params(axis='x', labelrotation=90)\n",
    "#         axs[i][j].grid()\n",
    "#\n",
    "# plt.show()"
   ],
   "metadata": {
    "collapsed": false
   }
  },
  {
   "cell_type": "markdown",
   "source": [
    "每个label一个图，将垃圾数据清0，x是feature，y是实际值"
   ],
   "metadata": {
    "collapsed": false
   }
  },
  {
   "cell_type": "code",
   "execution_count": null,
   "outputs": [],
   "source": [
    "# from matplotlib import pyplot as plt\n",
    "#\n",
    "# df_clean = df\n",
    "# df_clean.iloc[:, [0, 3, 4, 5, 6, 7, 8, 9, 10, 11, 12, 13, 14, 15, 16, ]] = 0\n",
    "#\n",
    "# fig, axs = plt.subplots(6, figsize=(20, 120))\n",
    "# feature = df.drop(['sample_id'], axis=1)\n",
    "# for i in range(6):\n",
    "#     axs[i].plot(feature[feature['label'] == i].T)\n",
    "#     axs[i].set_title(f'label {i}')\n",
    "#     axs[i].tick_params(axis='x', labelrotation=90)\n",
    "#     axs[i].grid()\n",
    "#\n",
    "# plt.show()"
   ],
   "metadata": {
    "collapsed": false
   }
  },
  {
   "cell_type": "markdown",
   "source": [
    "对数图"
   ],
   "metadata": {
    "collapsed": false
   }
  },
  {
   "cell_type": "code",
   "execution_count": null,
   "outputs": [],
   "source": [
    "# from matplotlib import pyplot as plt\n",
    "#\n",
    "# fig, axs = plt.subplots(ncols=6, figsize=(120, 20))\n",
    "#\n",
    "# feature = df.drop(['sample_id'], axis=1)\n",
    "#\n",
    "# for i in range(6):\n",
    "#     axs[i].semilogy(feature[feature.label == i].iloc[:10, :].T)\n",
    "#     axs[i].tick_params(axis='x', labelrotation=90)\n",
    "#     axs[i].grid()\n",
    "#     axs[i].set_title(f'Label {i}')\n",
    "#\n",
    "# plt.show()"
   ],
   "metadata": {
    "collapsed": false
   }
  }
 ],
 "metadata": {
  "kernelspec": {
   "display_name": "Python 3 (ipykernel)",
   "language": "python",
   "name": "python3"
  },
  "language_info": {
   "codemirror_mode": {
    "name": "ipython",
    "version": 3
   },
   "file_extension": ".py",
   "mimetype": "text/x-python",
   "name": "python",
   "nbconvert_exporter": "python",
   "pygments_lexer": "ipython3",
   "version": "3.10.11"
  }
 },
 "nbformat": 4,
 "nbformat_minor": 1
}
