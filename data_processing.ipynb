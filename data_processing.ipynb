{
 "cells": [
  {
   "cell_type": "markdown",
   "metadata": {},
   "source": [
    "# 导入 preprocess_train.csv"
   ]
  },
  {
   "cell_type": "code",
   "execution_count": 14,
   "metadata": {
    "ExecuteTime": {
     "end_time": "2023-05-31T02:49:31.642174400Z",
     "start_time": "2023-05-31T02:49:31.460935200Z"
    }
   },
   "outputs": [],
   "source": [
    "import pandas as pd\n",
    "\n",
    "df = pd.read_csv('preprocess_train.csv')"
   ]
  },
  {
   "cell_type": "markdown",
   "metadata": {},
   "source": [
    "检查数据的形状是否正确"
   ]
  },
  {
   "cell_type": "code",
   "execution_count": 15,
   "metadata": {
    "ExecuteTime": {
     "end_time": "2023-05-31T02:49:31.657371600Z",
     "start_time": "2023-05-31T02:49:31.644170700Z"
    }
   },
   "outputs": [],
   "source": [
    "# df.head()"
   ]
  },
  {
   "cell_type": "markdown",
   "metadata": {},
   "source": [
    "调用函数 info() 可以获得有关这个数据集的信息"
   ]
  },
  {
   "cell_type": "code",
   "execution_count": 16,
   "metadata": {
    "ExecuteTime": {
     "end_time": "2023-05-31T02:49:31.690923300Z",
     "start_time": "2023-05-31T02:49:31.662360Z"
    }
   },
   "outputs": [],
   "source": [
    "# df.info()"
   ]
  },
  {
   "cell_type": "markdown",
   "metadata": {},
   "source": [
    "调用函数 barh() 绘制出 label 数据的条形图"
   ]
  },
  {
   "cell_type": "code",
   "execution_count": 17,
   "metadata": {
    "ExecuteTime": {
     "end_time": "2023-05-31T02:49:31.691923700Z",
     "start_time": "2023-05-31T02:49:31.676385200Z"
    }
   },
   "outputs": [],
   "source": [
    "# df.label.value_counts().plot.barh()"
   ]
  },
  {
   "cell_type": "markdown",
   "metadata": {},
   "source": [
    "检查有效数据"
   ]
  },
  {
   "cell_type": "code",
   "execution_count": 18,
   "outputs": [],
   "source": [
    "# label_0_df = df[(df.label == 0)]\n",
    "# label_1_df = df[(df.label == 1)]\n",
    "# label_2_df = df[(df.label == 2)]\n",
    "# label_3_df = df[(df.label == 3)]\n",
    "# label_4_df = df[(df.label == 4)]\n",
    "#\n",
    "# print(f'label 0 df: {label_0_df.shape}')\n",
    "# print(f'label 1 df: {label_1_df.shape}')\n",
    "# print(f'label 2 df: {label_2_df.shape}')\n",
    "# print(f'label 3 df: {label_3_df.shape}')\n",
    "# print(f'label 4 df: {label_4_df.shape}')"
   ],
   "metadata": {
    "collapsed": false,
    "ExecuteTime": {
     "end_time": "2023-05-31T02:49:31.705671400Z",
     "start_time": "2023-05-31T02:49:31.691923700Z"
    }
   }
  },
  {
   "cell_type": "markdown",
   "source": [
    "绘制图形观察规律"
   ],
   "metadata": {
    "collapsed": false
   }
  },
  {
   "cell_type": "code",
   "execution_count": 19,
   "outputs": [],
   "source": [
    "# fig, axs = plt.subplots(nrows=12, ncols=9, figsize=(100, 100))\n",
    "#\n",
    "# for i in range(12):\n",
    "#     for j in range(9):\n",
    "#         axs[i, j].scatter(df.iloc[:, i * 9 + j], df.iloc[:, -1])\n",
    "#         axs[i, j].set_title(f\"Column {i * 9 + j + 1}\")\n",
    "#\n",
    "# plt.show()"
   ],
   "metadata": {
    "collapsed": false,
    "ExecuteTime": {
     "end_time": "2023-05-31T02:49:31.734677200Z",
     "start_time": "2023-05-31T02:49:31.707670100Z"
    }
   }
  },
  {
   "cell_type": "markdown",
   "metadata": {},
   "source": [
    "# 平衡数据集"
   ]
  },
  {
   "cell_type": "markdown",
   "source": [
    "画出nan和null占比条形图"
   ],
   "metadata": {
    "collapsed": false
   }
  },
  {
   "cell_type": "code",
   "execution_count": 20,
   "outputs": [],
   "source": [
    "# # 计算每列中NaN和null值的数量\n",
    "# null_counts = df.isnull().sum()\n",
    "# # 计算数据框中值的总数\n",
    "# total_values = np.product(df.shape)\n",
    "# # 计算每个列中NaN和null值的百分比\n",
    "# null_percentages = null_counts / total_values * 100\n",
    "#\n",
    "# plt.figure(figsize=(20, 20))\n",
    "# null_percentages.plot(kind='bar')"
   ],
   "metadata": {
    "collapsed": false,
    "ExecuteTime": {
     "end_time": "2023-05-31T02:49:31.735686400Z",
     "start_time": "2023-05-31T02:49:31.723669400Z"
    }
   }
  },
  {
   "cell_type": "markdown",
   "source": [
    "使用fillna填充平均值和中位数，并保存到对应文件"
   ],
   "metadata": {
    "collapsed": false
   }
  },
  {
   "cell_type": "code",
   "execution_count": 21,
   "outputs": [],
   "source": [
    "# mean_df = df.fillna(df.mean())\n",
    "median_df = df.fillna(df.median())\n",
    "\n",
    "# mean_df.to_csv('preprocess_train_mean.csv', index=False)\n",
    "median_df.to_csv('preprocess_train_median.csv', index=False)"
   ],
   "metadata": {
    "collapsed": false,
    "ExecuteTime": {
     "end_time": "2023-05-31T02:49:33.029857Z",
     "start_time": "2023-05-31T02:49:31.739685100Z"
    }
   }
  },
  {
   "cell_type": "markdown",
   "source": [
    "提取出feature和label"
   ],
   "metadata": {
    "collapsed": false
   }
  },
  {
   "cell_type": "code",
   "execution_count": 22,
   "outputs": [],
   "source": [
    "feature_df = median_df.drop(['sample_id', 'label'], axis=1)\n",
    "labels_df = median_df.label"
   ],
   "metadata": {
    "collapsed": false,
    "ExecuteTime": {
     "end_time": "2023-05-31T02:49:33.068898200Z",
     "start_time": "2023-05-31T02:49:33.031857300Z"
    }
   }
  },
  {
   "cell_type": "markdown",
   "source": [
    "合成少数类过采样技术（SMOTE）：在少数类中创建新的合成样本，以使其与多数类具有相同数量的样本。这种方法可以避免信息丢失和过拟合问题。您可以使用imblearn库中的SMOTE类来执行此操作。"
   ],
   "metadata": {
    "collapsed": false
   }
  },
  {
   "cell_type": "code",
   "execution_count": 23,
   "metadata": {
    "ExecuteTime": {
     "end_time": "2023-05-31T02:49:33.341527100Z",
     "start_time": "2023-05-31T02:49:33.064871900Z"
    }
   },
   "outputs": [],
   "source": [
    "from imblearn.over_sampling import SMOTE\n",
    "\n",
    "oversample = SMOTE()\n",
    "transformed_feature_df, transformed_label_df = oversample.fit_resample(feature_df, labels_df)"
   ]
  },
  {
   "cell_type": "markdown",
   "source": [
    "查看每个label的feature数量"
   ],
   "metadata": {
    "collapsed": false
   }
  },
  {
   "cell_type": "code",
   "execution_count": 24,
   "outputs": [
    {
     "name": "stdout",
     "output_type": "stream",
     "text": [
      "new label count: 4    3244\n",
      "5    3244\n",
      "2    3244\n",
      "3    3244\n",
      "0    3244\n",
      "1    3244\n",
      "Name: label, dtype: int64\n",
      "old label count: 0    3244\n",
      "2    1016\n",
      "1     661\n",
      "3     554\n",
      "5     470\n",
      "4     351\n",
      "Name: label, dtype: int64\n"
     ]
    }
   ],
   "source": [
    "print(f'new label count: {transformed_label_df.value_counts()}')\n",
    "print(f'old label count: {df.label.value_counts()}')"
   ],
   "metadata": {
    "collapsed": false,
    "ExecuteTime": {
     "end_time": "2023-05-31T02:49:33.355527Z",
     "start_time": "2023-05-31T02:49:33.344527500Z"
    }
   }
  },
  {
   "cell_type": "markdown",
   "source": [
    "合并transformed_feature_df和transformed_label_df并保存到新文件cleaned.csv"
   ],
   "metadata": {
    "collapsed": false
   }
  },
  {
   "cell_type": "code",
   "execution_count": 28,
   "outputs": [],
   "source": [
    "transformed_df = pd.concat([transformed_label_df,transformed_feature_df],axis=1, join='outer')\n",
    "transformed_df.to_csv(\"cleaned.csv\")"
   ],
   "metadata": {
    "collapsed": false,
    "ExecuteTime": {
     "end_time": "2023-05-31T02:51:16.079791700Z",
     "start_time": "2023-05-31T02:51:12.492207100Z"
    }
   }
  }
 ],
 "metadata": {
  "kernelspec": {
   "display_name": "Python 3 (ipykernel)",
   "language": "python",
   "name": "python3"
  },
  "language_info": {
   "codemirror_mode": {
    "name": "ipython",
    "version": 3
   },
   "file_extension": ".py",
   "mimetype": "text/x-python",
   "name": "python",
   "nbconvert_exporter": "python",
   "pygments_lexer": "ipython3",
   "version": "3.10.11"
  }
 },
 "nbformat": 4,
 "nbformat_minor": 1
}
